{
 "cells": [
  {
   "cell_type": "code",
   "execution_count": null,
   "metadata": {
    "cellId": "evcw6y8rfzs5345lhvxwk"
   },
   "outputs": [],
   "source": [
    "KAGGLE = False"
   ]
  },
  {
   "cell_type": "code",
   "execution_count": null,
   "metadata": {
    "cellId": "8jgo5f0mxy77tbj5myh2yq"
   },
   "outputs": [],
   "source": [
    "%%time\n",
    "if KAGGLE:\n",
    "    !pip install ../input/efficientnet-pytorch/EfficientNet-PyTorch-1.0 -f ./ --no-index\n",
    "else:\n",
    "    %pip install efficientnet_pytorch"
   ]
  },
  {
   "cell_type": "code",
   "execution_count": null,
   "metadata": {
    "cellId": "3a2ceg74a5nibrkix03ero"
   },
   "outputs": [],
   "source": [
    "#!g1.1\n",
    "import os\n",
    "import gc\n",
    "import sys\n",
    "import json\n",
    "import time\n",
    "import cv2\n",
    "import pandas as pd\n",
    "import numpy as np\n",
    "import torch\n",
    "import torch.nn as nn\n",
    "import torch.optim as optim\n",
    "import torch.utils.data as data\n",
    "import torchvision\n",
    "from torchvision import models, transforms\n",
    "from torch.utils.data.sampler import SequentialSampler\n",
    "from efficientnet_pytorch import model as enet\n",
    "DEVICE = torch.device('cuda')"
   ]
  },
  {
   "cell_type": "code",
   "execution_count": null,
   "metadata": {
    "cellId": "jax6eppyp88kg8ki0y0o9n"
   },
   "outputs": [],
   "source": [
    "#!g1.1\n",
    "TEST = True\n",
    "VER = 'v0'\n",
    "if KAGGLE:\n",
    "    DATA_PATH = '../input/plant-pathology-2021-fgvc8'\n",
    "    MDLS_PATH = f'../input/plant-models-{VER}'\n",
    "else:\n",
    "    DATA_PATH = '/home/jupyter/mnt/datasets/PLANT_DATASET'\n",
    "    MDLS_PATH = f'./models_{VER}'\n",
    "TH = None #[.3, .35, .35, .35, .35, .35]\n",
    "TTAS = [0]\n",
    "FOLDS = [0]\n",
    "IMGS_PATH = f'{DATA_PATH}/test_images' if TEST else f'{DATA_PATH}/train_images'\n",
    "\n",
    "start_time = time.time()"
   ]
  },
  {
   "cell_type": "code",
   "execution_count": null,
   "metadata": {
    "cellId": "7vdo2ynroj8mp4fut00ie"
   },
   "outputs": [],
   "source": [
    "#!g1.1\n",
    "with open(f'{MDLS_PATH}/params.json') as file:\n",
    "    params = json.load(file)\n",
    "LABELS_ = params['labels_']\n",
    "LABELS = params['labels']\n",
    "WORKERS = 2 if KAGGLE else params['workers']\n",
    "print('loaded params:', params)\n",
    "\n",
    "if TH: \n",
    "    ths = {'0': TH[0], '1': TH[1], \n",
    "           '2': TH[2], '3': TH[3], \n",
    "           '4': TH[4], '5': TH[5]}\n",
    "else:\n",
    "    with open(f'{MDLS_PATH}/ths.json') as file:\n",
    "        ths = json.load(file)\n",
    "print('thresholds:', ths)\n",
    "\n",
    "df_sub = pd.DataFrame(os.listdir(IMGS_PATH)) if TEST else pd.DataFrame(os.listdir(IMGS_PATH)[:100])\n",
    "df_sub.columns = ['image']\n",
    "df_sub['labels'] = 'healthy'\n",
    "display(df_sub.head())"
   ]
  },
  {
   "cell_type": "code",
   "execution_count": null,
   "metadata": {
    "cellId": "bdxkc1d9ibhmqj1jzcd06i"
   },
   "outputs": [],
   "source": [
    "#!g1.1\n",
    "def flip(img, axis=0):\n",
    "    if axis == 1:\n",
    "        return img[::-1, :, ]\n",
    "    elif axis == 2:\n",
    "        return img[:, ::-1, ]\n",
    "    elif axis == 3:\n",
    "        return img[::-1, ::-1, ]\n",
    "    else:\n",
    "        return img\n",
    "\n",
    "class PlantDataset(data.Dataset):\n",
    "    \n",
    "    def __init__(self, df, size, labels, transform=None, tta=0):\n",
    "        self.df = df.reset_index(drop=True)\n",
    "        self.size = size\n",
    "        self.labels = labels\n",
    "        self.transform = transform\n",
    "        self.tta = tta\n",
    "    \n",
    "    def __len__(self):\n",
    "        return self.df.shape[0]\n",
    "    \n",
    "    def __getitem__(self, index):\n",
    "        row = self.df.iloc[index]\n",
    "        img_name = row.image\n",
    "        img_path = f'{IMGS_PATH}/{img_name}'\n",
    "        img = cv2.imread(img_path)\n",
    "        if not np.any(img):\n",
    "            print('no img file read:', img_path)\n",
    "        img = cv2.cvtColor(img, cv2.COLOR_BGR2RGB)\n",
    "        img = cv2.resize(img, (self.size, self.size))\n",
    "        img = img.astype(np.float32) / 255\n",
    "        if self.transform is not None:\n",
    "            img = self.transform(image=img)['image']\n",
    "        if self.labels:\n",
    "            img = img.transpose(2, 0, 1)\n",
    "            label = np.zeros(len(self.labels)).astype(np.float32)\n",
    "            for lbl in row.labels.split():\n",
    "                label[self.labels[lbl]] = 1\n",
    "            return torch.tensor(img), torch.tensor(label)\n",
    "        else:\n",
    "            img = flip(img, axis=self.tta)\n",
    "            img = img.transpose(2, 0, 1)\n",
    "            return torch.tensor(img.copy())\n",
    "\n",
    "class EffNet(nn.Module):\n",
    "    \n",
    "    def __init__(self, params, out_dim):\n",
    "        super(EffNet, self).__init__()\n",
    "        self.enet = enet.EfficientNet.from_name(params['backbone'])\n",
    "        nc = self.enet._fc.in_features\n",
    "        self.enet._fc = nn.Identity()\n",
    "        self.myfc = nn.Sequential(\n",
    "            nn.Dropout(params['dropout']),\n",
    "            nn.Linear(nc, int(nc / 4)),\n",
    "            nn.Dropout(params['dropout']),\n",
    "            nn.Linear(int(nc / 4), out_dim)\n",
    "        )\n",
    "        \n",
    "    def extract(self, x):\n",
    "        return self.enet(x)\n",
    "    \n",
    "    def forward(self, x):\n",
    "        x = self.extract(x)\n",
    "        x = self.myfc(x)\n",
    "        return x\n",
    "    \n",
    "class ResNext(nn.Module):\n",
    "    \n",
    "    def __init__(self, params, out_dim):\n",
    "        super(ResNext, self).__init__()\n",
    "        self.rsnxt = torchvision.models.resnext50_32x4d(pretrained=False)\n",
    "        nc = self.rsnxt.fc.in_features\n",
    "        self.rsnxt.fc = nn.Sequential(\n",
    "            nn.Flatten(),\n",
    "            nn.Linear(nc, int(nc / 4)),\n",
    "            nn.ReLU(),\n",
    "            nn.Dropout(params['dropout']),\n",
    "            nn.Linear(int(nc / 4), out_dim)\n",
    "        )\n",
    "        self.rsnxt = nn.DataParallel(self.rsnxt)\n",
    "        \n",
    "    def forward(self, x):\n",
    "        x = self.rsnxt(x)\n",
    "        return x"
   ]
  },
  {
   "cell_type": "code",
   "execution_count": null,
   "metadata": {
    "cellId": "vsefth17wilgh7xai6d0c"
   },
   "outputs": [],
   "source": [
    "#!g1.1\n",
    "models = []\n",
    "for n_fold in FOLDS:\n",
    "    if params['backbone'] == 'resnext':\n",
    "        model = ResNext(params=params, out_dim=len(LABELS_)) \n",
    "    else:\n",
    "        model = EffNet(params=params, out_dim=len(LABELS_)) \n",
    "    path = '{}/model_best_{}.pth'.format(MDLS_PATH, n_fold)\n",
    "    state_dict = torch.load(path, map_location=torch.device('cpu'))\n",
    "    model.load_state_dict(state_dict)\n",
    "    model.float()\n",
    "    model.eval()\n",
    "    model.cuda(DEVICE)\n",
    "    models.append(model)\n",
    "    print('loaded:', path)\n",
    "del state_dict, model\n",
    "gc.collect();"
   ]
  },
  {
   "cell_type": "code",
   "execution_count": null,
   "metadata": {
    "cellId": "so4kobsfh8hwdwko8vvxb"
   },
   "outputs": [],
   "source": [
    "#!g1.1\n",
    "datasets, loaders = [], []\n",
    "for tta in TTAS:\n",
    "    dataset = PlantDataset(\n",
    "        df=df_sub,\n",
    "        size=params['img_size'],\n",
    "        labels=None,\n",
    "        transform=None,\n",
    "        tta=tta)\n",
    "    datasets.append(dataset)\n",
    "    loader = torch.utils.data.DataLoader(\n",
    "        dataset, \n",
    "        batch_size=params['batch_size'], \n",
    "        sampler=SequentialSampler(dataset), \n",
    "        num_workers=WORKERS)\n",
    "    loaders.append(loader)\n",
    "\n",
    "def get_labels(row, labels, ths):\n",
    "    try:\n",
    "        row = [i for i, x in enumerate(row) if x > ths[str(i)]]\n",
    "        row = [labels[str(i)] for i in row]\n",
    "        row = 'healthy' if ('healthy' in row or len(row) == 0) else ' '.join(row)\n",
    "    except:\n",
    "        print(row)\n",
    "    return row\n",
    "\n",
    "logits = []\n",
    "with torch.no_grad():\n",
    "    for i, model in enumerate(models):\n",
    "        for j, loader in enumerate(loaders):\n",
    "            logits_tta = []\n",
    "            for img_data in loader:\n",
    "                img_data = img_data.to(DEVICE)\n",
    "                preds = np.squeeze(model(img_data).sigmoid().cpu().numpy())\n",
    "                logits_tta.append(preds)\n",
    "            print('model {} | loader {} -> done'.format(i, j))\n",
    "            logits.append(logits_tta)\n",
    "logits = np.mean(logits, axis=0)\n",
    "logits = np.squeeze(np.vstack(logits))\n",
    "df_sub['labels'] = [get_labels(x, LABELS, ths) for x in list(logits)]\n",
    "\n",
    "elapsed_time = time.time() - start_time\n",
    "print(f'time elapsed: {elapsed_time // 60:.0f} min {elapsed_time % 60:.0f} sec')"
   ]
  },
  {
   "cell_type": "code",
   "execution_count": null,
   "metadata": {
    "cellId": "qxhkn4ra20mb7g4jrdc51"
   },
   "outputs": [],
   "source": [
    "print('value counts:')\n",
    "print(df_sub.labels.value_counts())\n",
    "df_sub.head()"
   ]
  },
  {
   "cell_type": "code",
   "execution_count": null,
   "metadata": {
    "cellId": "mpmlevp855bqyuml1296k"
   },
   "outputs": [],
   "source": [
    "df_sub.to_csv('submission.csv', index=False)"
   ]
  },
  {
   "cell_type": "code",
   "execution_count": null,
   "metadata": {
    "cellId": "9vqrgvu2xlenh6zx3a32ze"
   },
   "outputs": [],
   "source": []
  }
 ],
 "metadata": {
  "language_info": {
   "codemirror_mode": {
    "name": "ipython",
    "version": 3
   },
   "file_extension": ".py",
   "mimetype": "text/x-python",
   "name": "python",
   "nbconvert_exporter": "python",
   "pygments_lexer": "ipython3",
   "version": "3.7.7"
  },
  "notebookId": "7e7cd964-6cfd-4ca7-b82a-27f0bd832be6",
  "notebookPath": "kaggle_plant/pinfer.ipynb"
 },
 "nbformat": 4,
 "nbformat_minor": 4
}
