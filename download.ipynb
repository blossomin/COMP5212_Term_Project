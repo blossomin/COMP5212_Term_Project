{
 "cells": [
  {
   "cell_type": "code",
   "execution_count": null,
   "id": "426153dc",
   "metadata": {
    "cellId": "pay6j0hyppdp85dnaabnq"
   },
   "outputs": [],
   "source": [
    "import os\n",
    "disk = os.statvfs('.')\n",
    "total_bytes = float(disk.f_bsize * disk.f_blocks)\n",
    "print('total space: {:.2f} GB'.format(total_bytes / (2 ** 30)))\n",
    "total_used_space = float(disk.f_bsize * (disk.f_blocks - disk.f_bfree))\n",
    "print('used space: {:.2f} GB'.format(total_used_space / (2 ** 30)))"
   ]
  },
  {
   "cell_type": "code",
   "execution_count": null,
   "id": "d9c536f0",
   "metadata": {
    "cellId": "lxi9h4fhzxz8v9yxjsmr9"
   },
   "outputs": [],
   "source": [
    "import json\n",
    "with open('kaggle.json') as file:\n",
    "    kgl_data = json.load(file)"
   ]
  },
  {
   "cell_type": "code",
   "execution_count": null,
   "id": "73978ea4",
   "metadata": {
    "cellId": "62vmdq2fov7ns7a9iemc8b"
   },
   "outputs": [],
   "source": [
    "#pragma dataset init PLANT_DATASET --size 50Gb\n",
    "\n",
    "DATA_PATH = '/home/jupyter/mnt/datasets' + '/PLANT_DATASET'\n",
    "COMPETITION = 'plant-pathology-2021-fgvc8'\n",
    "if not os.path.exists(DATA_PATH):\n",
    "    os.makedirs(DATA_PATH)\n",
    "\n",
    "os.environ['KAGGLE_USERNAME'] = kgl_data['username']\n",
    "os.environ['KAGGLE_KEY'] = kgl_data['key']\n",
    "import kaggle\n",
    "kaggle.api.authenticate()\n",
    "kaggle.api.competition_download_files(COMPETITION, path=DATA_PATH, quiet=False)\n",
    "\n",
    "import zipfile\n",
    "from tqdm import tqdm\n",
    "fname = DATA_PATH + '/plant-pathology-2021-fgvc8.zip'\n",
    "path = DATA_PATH\n",
    "with zipfile.ZipFile(fname, 'r') as zf:\n",
    "    for entry in tqdm(zf.infolist(), desc='Extracting '):\n",
    "        try:\n",
    "            zf.extract(entry, path)\n",
    "        except zipfile.error as e:\n",
    "            pass\n",
    "del zf;"
   ]
  },
  {
   "cell_type": "code",
   "execution_count": null,
   "id": "16f947c9",
   "metadata": {
    "cellId": "ithkays8okgp6s88lcdd4"
   },
   "outputs": [],
   "source": []
  }
 ],
 "metadata": {
  "language_info": {
   "codemirror_mode": {
    "name": "ipython",
    "version": 3
   },
   "file_extension": ".py",
   "mimetype": "text/x-python",
   "name": "python",
   "nbconvert_exporter": "python",
   "pygments_lexer": "ipython3",
   "version": "3.7.7"
  },
  "notebookId": "0d32b64e-9dcc-4cd0-8588-dae8d453b289",
  "notebookPath": "kaggle_plant/download.ipynb"
 },
 "nbformat": 4,
 "nbformat_minor": 5
}
